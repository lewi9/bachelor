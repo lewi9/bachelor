{
 "cells": [
  {
   "cell_type": "code",
   "execution_count": 1,
   "metadata": {},
   "outputs": [
    {
     "name": "stderr",
     "output_type": "stream",
     "text": [
      "c:\\Users\\Mambo\\.conda\\envs\\bachelor\\lib\\site-packages\\tqdm\\auto.py:21: TqdmWarning: IProgress not found. Please update jupyter and ipywidgets. See https://ipywidgets.readthedocs.io/en/stable/user_install.html\n",
      "  from .autonotebook import tqdm as notebook_tqdm\n",
      "2024-02-12 22:13:09,810\tINFO util.py:154 -- Missing packages: ['ipywidgets']. Run `pip install -U ipywidgets`, then restart the notebook server for rich notebook output.\n"
     ]
    }
   ],
   "source": [
    "import numpy as np\n",
    "from sktime.forecasting.arima import ARIMA\n",
    "from sktime.forecasting.sarimax import SARIMAX\n",
    "from sktime.forecasting.croston import Croston\n",
    "from sktime.forecasting.fbprophet import Prophet\n",
    "from sktime.forecasting.naive import NaiveForecaster\n",
    "from sktime.forecasting.arch import StatsForecastGARCH\n",
    "from sktime.transformations.series.outlier_detection import HampelFilter\n",
    "\n",
    "from app.data_managers.namespaces import data_ns\n",
    "from app.modelling.metrics import mae, rmse, maxae\n",
    "from app.modelling.models import LinReg, RandomForrest, RegressionTree\n",
    "from app.modelling.splitters import ExpandingWindowSplitter, SlidingWindowSplitter\n",
    "from app.modelling.transformers import (\n",
    "    CompletnessFilter,\n",
    "    DormantFilter,\n",
    "    ImputerBackTime,\n",
    "    ImputerPandas,\n",
    "    NanDropper,\n",
    ")\n",
    "from app.tuner.tuner import Tuner, BEST_MODEL\n",
    "\n",
    "FORECAST_PERIOD = 24\n",
    "forecast_horizon = np.arange(1, FORECAST_PERIOD + 1)"
   ]
  },
  {
   "cell_type": "code",
   "execution_count": 2,
   "metadata": {},
   "outputs": [
    {
     "name": "stderr",
     "output_type": "stream",
     "text": [
      "Importing plotly failed. Interactive plots will not work.\n"
     ]
    }
   ],
   "source": [
    "forecasters = {\n",
    "    \"PACK_1\" : {\n",
    "        \"PROPHET\": Prophet(),\n",
    "        \"CROSTON_0.01\": Croston(smoothing=0.01),\n",
    "        \"NAIVE_DRIFT\": NaiveForecaster(strategy=\"drift\"),\n",
    "    },\n",
    "    \"PACK_2\" : {\n",
    "        \"PROPHET_DEFAULT\": Prophet(\n",
    "            freq=\"H\",\n",
    "            add_seasonality=True,\n",
    "            daily_seasonality=True,\n",
    "            weekly_seasonality=True,\n",
    "            yearly_seasonality=True,\n",
    "        ),\n",
    "        \"CROSTON_0.1\": Croston(smoothing=0.1),\n",
    "        \"NAIVE_LAST_24H\": NaiveForecaster(strategy=\"last\", sp=24),\n",
    "    },\n",
    "    \"PACK_3\" : {\n",
    "        \"PROPHET_MULT_SEAS\": Prophet(\n",
    "            freq=\"H\",\n",
    "            add_seasonality=True,\n",
    "            daily_seasonality=True,\n",
    "            yearly_seasonality=True,\n",
    "            seasonality_mode=\"multiplicative\",\n",
    "        ),\n",
    "        \"CROSTON_0.2\": Croston(smoothing=0.2),\n",
    "        \"NAIVE_MEAN_30D_SP24H\": NaiveForecaster(\n",
    "            strategy=\"mean\", window_length=30 * 24, sp=24\n",
    "        ),\n",
    "    },\n",
    "    \"PACK_4\" : {\n",
    "        \"ARIMA_1\": ARIMA(),\n",
    "        \"CROSTON_0.5\": Croston(smoothing=0.5),\n",
    "        \"NAIVE_MEAN_30D\": NaiveForecaster(strategy=\"mean\", window_length=30 * 24),\n",
    "    },\n",
    "    \"PACK_5\": {\n",
    "        \"ARIMA_2\": ARIMA((1, 1, 0)),\n",
    "        \"CROSTON_0.8\": Croston(smoothing=0.8),\n",
    "        \"NAIVE_MEAN_3D\": NaiveForecaster(strategy=\"mean\", window_length=3 * 24),\n",
    "    },\n",
    "    \"PACK_6\" : {\n",
    "        \"LinReg\": LinReg(),\n",
    "        \"NAIVE_LAST_48H\": NaiveForecaster(strategy=\"last\", sp=48),\n",
    "        \"NAIVE_MEAN_7D\": NaiveForecaster(strategy=\"mean\", window_length=7 * 24),\n",
    "    },\n",
    "    \"PACK_7\" : {\n",
    "        \"RandomForrest\": RandomForrest(),\n",
    "        \"NAIVE_MEAN_7D_SP24H\": NaiveForecaster(\n",
    "            strategy=\"mean\", window_length=7 * 24, sp=24\n",
    "        ),\n",
    "        \"StatsForecastGARCH\": StatsForecastGARCH(),\n",
    "    },\n",
    "    \"PACK_8\" : {\n",
    "        \"RegressionTree\": RegressionTree(),\n",
    "        \"ARIMA_3\": ARIMA((1, 1, 1)),\n",
    "        \"SARIMAX_D\": SARIMAX((1, 0, 0), (1, 0, 0, 24)),\n",
    "    }\n",
    "}"
   ]
  },
  {
   "cell_type": "code",
   "execution_count": 3,
   "metadata": {},
   "outputs": [],
   "source": [
    "splitters = {\n",
    "    \"ExpandingWindowSplitter\": ExpandingWindowSplitter(\n",
    "        fh=forecast_horizon, step_length=FORECAST_PERIOD\n",
    "    ),\n",
    "    \"SlidingWindowSplitter_FP*60\": SlidingWindowSplitter(\n",
    "        fh=forecast_horizon,\n",
    "        step_length=FORECAST_PERIOD,\n",
    "        window_length=FORECAST_PERIOD * 60,\n",
    "    ),\n",
    "    \"SlidingWindowSplitter_FP\": SlidingWindowSplitter(\n",
    "        fh=forecast_horizon, step_length=FORECAST_PERIOD, window_length=FORECAST_PERIOD\n",
    "    ),\n",
    "    \"SlidingWindowSplitter_FP*7\": SlidingWindowSplitter(\n",
    "        fh=forecast_horizon, step_length=FORECAST_PERIOD, window_length=FORECAST_PERIOD * 7\n",
    "    ),\n",
    "    \"SlidingWindowSplitter_FP*30\": SlidingWindowSplitter(\n",
    "        fh=forecast_horizon, step_length=FORECAST_PERIOD, window_length=FORECAST_PERIOD * 30\n",
    "    ),\n",
    "}"
   ]
  },
  {
   "cell_type": "code",
   "execution_count": 4,
   "metadata": {},
   "outputs": [],
   "source": [
    "transformers = [\n",
    "        DormantFilter(period=FORECAST_PERIOD + 48),\n",
    "        CompletnessFilter(0.5),\n",
    "        ImputerBackTime(period_to_take_value_from=24),\n",
    "        HampelFilter(window_length=72),\n",
    "        ImputerPandas(method=\"linear\"),\n",
    "        NanDropper(),\n",
    "    ]"
   ]
  },
  {
   "cell_type": "code",
   "execution_count": 5,
   "metadata": {},
   "outputs": [],
   "source": [
    "tuner = Tuner(\n",
    "    forecasters=forecasters, \n",
    "    splitters=splitters,\n",
    "    metrics={\"rmse\": rmse}, \n",
    "    strategies={BEST_MODEL: BEST_MODEL, \"mean\": \"mean\", \"median\": \"median\"},\n",
    "    dates=[\"2023-04-09 00\", \"2023-04-20 00\", \"2023-09-20 00\", \"2023-12-07 00\"],\n",
    "    input_dir=data_ns.TRANSFORMED_DATA_DIR,\n",
    "    result_dir=data_ns.FORECAST_RESULT_DIR,\n",
    "    selection_dir=data_ns.SELECTED_DATA_DIR,\n",
    "    max_forecasts=4,\n",
    "    transformers=transformers,\n",
    "    forecast_horizon=forecast_horizon,\n",
    "    parallel_batch=10,\n",
    "    engine=\"nsga_2\",\n",
    ")"
   ]
  },
  {
   "cell_type": "code",
   "execution_count": 6,
   "metadata": {},
   "outputs": [
    {
     "ename": "FileExistsError",
     "evalue": "[WinError 183] Nie można utworzyć pliku, który już istnieje: '24h_8gen_10pop_nsga2'",
     "output_type": "error",
     "traceback": [
      "\u001b[1;31m---------------------------------------------------------------------------\u001b[0m",
      "\u001b[1;31mFileExistsError\u001b[0m                           Traceback (most recent call last)",
      "Cell \u001b[1;32mIn[6], line 1\u001b[0m\n\u001b[1;32m----> 1\u001b[0m \u001b[43mtuner\u001b[49m\u001b[38;5;241;43m.\u001b[39;49m\u001b[43mtune\u001b[49m\u001b[43m(\u001b[49m\u001b[43mn_gen\u001b[49m\u001b[38;5;241;43m=\u001b[39;49m\u001b[38;5;241;43m8\u001b[39;49m\u001b[43m,\u001b[49m\u001b[43m \u001b[49m\u001b[43mn_pop\u001b[49m\u001b[38;5;241;43m=\u001b[39;49m\u001b[38;5;241;43m10\u001b[39;49m\u001b[43m,\u001b[49m\u001b[43m \u001b[49m\u001b[43mev_metrics\u001b[49m\u001b[38;5;241;43m=\u001b[39;49m\u001b[43m{\u001b[49m\u001b[38;5;124;43m\"\u001b[39;49m\u001b[38;5;124;43mmae\u001b[39;49m\u001b[38;5;124;43m\"\u001b[39;49m\u001b[43m:\u001b[49m\u001b[43m \u001b[49m\u001b[43mmae\u001b[49m\u001b[43m,\u001b[49m\u001b[43m \u001b[49m\u001b[38;5;124;43m\"\u001b[39;49m\u001b[38;5;124;43mrmse\u001b[39;49m\u001b[38;5;124;43m\"\u001b[39;49m\u001b[43m:\u001b[49m\u001b[43m \u001b[49m\u001b[43mrmse\u001b[49m\u001b[43m,\u001b[49m\u001b[43m \u001b[49m\u001b[38;5;124;43m\"\u001b[39;49m\u001b[38;5;124;43mmaxae\u001b[39;49m\u001b[38;5;124;43m\"\u001b[39;49m\u001b[43m:\u001b[49m\u001b[43m \u001b[49m\u001b[43mmaxae\u001b[49m\u001b[43m}\u001b[49m\u001b[43m,\u001b[49m\u001b[43m \u001b[49m\u001b[43mresult_dir\u001b[49m\u001b[38;5;241;43m=\u001b[39;49m\u001b[38;5;124;43m\"\u001b[39;49m\u001b[38;5;124;43m24h_8gen_10pop_nsga2\u001b[39;49m\u001b[38;5;124;43m\"\u001b[39;49m\u001b[43m)\u001b[49m\n",
      "File \u001b[1;32mc:\\Users\\Mambo\\Desktop\\bachelor_migration\\app\\tuner\\tuner.py:90\u001b[0m, in \u001b[0;36mTuner.tune\u001b[1;34m(self, n_gen, n_pop, ev_metrics, result_dir)\u001b[0m\n\u001b[0;32m     88\u001b[0m \u001b[38;5;28;01mdef\u001b[39;00m \u001b[38;5;21mtune\u001b[39m(\u001b[38;5;28mself\u001b[39m, n_gen: \u001b[38;5;28mint\u001b[39m, n_pop: \u001b[38;5;28mint\u001b[39m, ev_metrics: \u001b[38;5;28mdict\u001b[39m, result_dir: \u001b[38;5;28mstr\u001b[39m):\n\u001b[0;32m     89\u001b[0m \u001b[38;5;250m    \u001b[39m\u001b[38;5;124;03m\"\"\"Tune the model.\"\"\"\u001b[39;00m\n\u001b[1;32m---> 90\u001b[0m     \u001b[43mos\u001b[49m\u001b[38;5;241;43m.\u001b[39;49m\u001b[43mmkdir\u001b[49m\u001b[43m(\u001b[49m\u001b[43mresult_dir\u001b[49m\u001b[43m)\u001b[49m\n\u001b[0;32m     91\u001b[0m     problem \u001b[38;5;241m=\u001b[39m \u001b[38;5;28mself\u001b[39m\u001b[38;5;241m.\u001b[39m_build_problem(ev_metrics\u001b[38;5;241m=\u001b[39mev_metrics, result_dir\u001b[38;5;241m=\u001b[39mresult_dir)\n\u001b[0;32m     93\u001b[0m     \u001b[38;5;28;01mif\u001b[39;00m \u001b[38;5;28mself\u001b[39m\u001b[38;5;241m.\u001b[39mengine \u001b[38;5;241m==\u001b[39m \u001b[38;5;124m\"\u001b[39m\u001b[38;5;124mnsga_3\u001b[39m\u001b[38;5;124m\"\u001b[39m:\n",
      "\u001b[1;31mFileExistsError\u001b[0m: [WinError 183] Nie można utworzyć pliku, który już istnieje: '24h_8gen_10pop_nsga2'"
     ]
    }
   ],
   "source": [
    "tuner.tune(n_gen=8, n_pop=10, ev_metrics={\"mae\": mae, \"rmse\": rmse, \"maxae\": maxae}, result_dir=\"24h_8gen_10pop_nsga2\")"
   ]
  }
 ],
 "metadata": {
  "kernelspec": {
   "display_name": "bachelor",
   "language": "python",
   "name": "python3"
  },
  "language_info": {
   "codemirror_mode": {
    "name": "ipython",
    "version": 3
   },
   "file_extension": ".py",
   "mimetype": "text/x-python",
   "name": "python",
   "nbconvert_exporter": "python",
   "pygments_lexer": "ipython3",
   "version": "3.9.18"
  }
 },
 "nbformat": 4,
 "nbformat_minor": 2
}
