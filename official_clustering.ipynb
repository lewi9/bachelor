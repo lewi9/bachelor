{
 "cells": [
  {
   "cell_type": "code",
   "execution_count": 1,
   "metadata": {},
   "outputs": [],
   "source": [
    "import os\n",
    "\n",
    "import numpy as np\n",
    "import pandas as pd\n",
    "\n",
    "from app.modelling.transformers import ImputerBackTime\n",
    "\n",
    "results = []\n",
    "labels = []\n",
    "files = os.listdir(\"transformed_data\")\n",
    "for file in files:\n",
    "    data = pd.read_csv(f\"transformed_data/{file}\")\n",
    "    a = data.query(\"DEPENDENT_VARIABLE_NAME == 'PM10'\")[\"VALUE\"].reset_index(drop=True)\n",
    "    b = data.query(\"DEPENDENT_VARIABLE_NAME == 'PM25'\")[\"VALUE\"].reset_index(drop=True)\n",
    "    c = data.query(\"DEPENDENT_VARIABLE_NAME == 'PM1'\")[\"VALUE\"].reset_index(drop=True)\n",
    "    d = a.isna()\n",
    "    e = b.isna()\n",
    "    f = c.isna() \n",
    "    if sum(d) > len(a)*0.3:\n",
    "        continue\n",
    "    if sum(e) > len(b)*0.3:\n",
    "        continue\n",
    "    if sum(f) > len(c)*0.3:\n",
    "        continue\n",
    "    imputer = ImputerBackTime()\n",
    "    a = imputer.fit_transform(a)\n",
    "    b = imputer.fit_transform(b)\n",
    "    c = imputer.fit_transform(c)\n",
    "    a = a.bfill()\n",
    "    b = b.bfill()\n",
    "    c = c.bfill()\n",
    "    a = a.ffill()\n",
    "    b = b.ffill()\n",
    "    c = c.ffill()\n",
    "    labels.append(file.split(\".\")[0])\n",
    "    time_series = pd.concat([a, b, c, d, e, f], axis=1).values\n",
    "    results.append(time_series)"
   ]
  },
  {
   "cell_type": "code",
   "execution_count": 2,
   "metadata": {},
   "outputs": [
    {
     "data": {
      "text/plain": [
       "(75, 7966, 6)"
      ]
     },
     "execution_count": 2,
     "metadata": {},
     "output_type": "execute_result"
    }
   ],
   "source": [
    "array = np.array(results)\n",
    "array.shape"
   ]
  },
  {
   "cell_type": "code",
   "execution_count": 4,
   "metadata": {},
   "outputs": [
    {
     "name": "stdout",
     "output_type": "stream",
     "text": [
      "Silhouette score for 2 clusters: 0.11076667639416961\n",
      "Silhouette score for 3 clusters: 0.1122758322925803\n"
     ]
    }
   ],
   "source": [
    "from tslearn.clustering import TimeSeriesKMeans\n",
    "from tslearn.clustering import silhouette_score\n",
    "\n",
    "for n_clusters in range(2,4):\n",
    "    km = TimeSeriesKMeans(n_clusters=n_clusters, metric=\"euclidean\", n_init=100, random_state=0, init=\"random\")\n",
    "    y_pred = km.fit_predict(array)\n",
    "    result = silhouette_score(array, y_pred, metric=\"euclidean\")\n",
    "    print(f\"Silhouette score for {n_clusters} clusters: {result}\")"
   ]
  },
  {
   "cell_type": "code",
   "execution_count": 5,
   "metadata": {},
   "outputs": [],
   "source": [
    "km = TimeSeriesKMeans(n_clusters=3, metric=\"euclidean\", n_init=100, random_state=0, init=\"random\")\n",
    "y_pred = km.fit_predict(array)"
   ]
  },
  {
   "cell_type": "code",
   "execution_count": 6,
   "metadata": {},
   "outputs": [
    {
     "data": {
      "text/plain": [
       "array([1, 1, 1, 0, 1, 1, 1, 2, 0, 0, 0, 1, 1, 1, 2, 2, 2, 0, 2, 1, 0, 1,\n",
       "       0, 0, 0, 0, 1, 0, 1, 0, 0, 0, 2, 1, 1, 2, 1, 1, 2, 0, 0, 1, 0, 2,\n",
       "       2, 0, 1, 1, 2, 0, 1, 0, 2, 2, 1, 2, 1, 0, 0, 2, 2, 1, 2, 0, 2, 0,\n",
       "       1, 0, 2, 1, 1, 2, 1, 1, 0], dtype=int64)"
      ]
     },
     "execution_count": 6,
     "metadata": {},
     "output_type": "execute_result"
    }
   ],
   "source": [
    "y_pred"
   ]
  },
  {
   "cell_type": "code",
   "execution_count": 15,
   "metadata": {},
   "outputs": [
    {
     "data": {
      "text/plain": [
       "(1, '10032')"
      ]
     },
     "execution_count": 15,
     "metadata": {},
     "output_type": "execute_result"
    }
   ],
   "source": [
    "no = 0\n",
    "y_pred[no], labels[no]"
   ]
  },
  {
   "cell_type": "code",
   "execution_count": null,
   "metadata": {},
   "outputs": [
    {
     "ename": "NameError",
     "evalue": "name 'plt' is not defined",
     "output_type": "error",
     "traceback": [
      "\u001b[1;31m---------------------------------------------------------------------------\u001b[0m",
      "\u001b[1;31mNameError\u001b[0m                                 Traceback (most recent call last)",
      "Cell \u001b[1;32mIn[10], line 1\u001b[0m\n\u001b[1;32m----> 1\u001b[0m \u001b[43mplt\u001b[49m\u001b[38;5;241m.\u001b[39mplot(array[no, :, \u001b[38;5;241m3\u001b[39m])\n",
      "\u001b[1;31mNameError\u001b[0m: name 'plt' is not defined"
     ]
    }
   ],
   "source": [
    "plt.plot(array[no, :, 3])"
   ]
  }
 ],
 "metadata": {
  "kernelspec": {
   "display_name": "bachelor",
   "language": "python",
   "name": "python3"
  },
  "language_info": {
   "codemirror_mode": {
    "name": "ipython",
    "version": 3
   },
   "file_extension": ".py",
   "mimetype": "text/x-python",
   "name": "python",
   "nbconvert_exporter": "python",
   "pygments_lexer": "ipython3",
   "version": "3.9.18"
  }
 },
 "nbformat": 4,
 "nbformat_minor": 2
}
